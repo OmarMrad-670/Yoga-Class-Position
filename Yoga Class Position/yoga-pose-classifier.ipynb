{
 "cells": [
  {
   "cell_type": "code",
   "execution_count": 1,
   "id": "060380fe",
   "metadata": {
    "_cell_guid": "b1076dfc-b9ad-4769-8c92-a6c4dae69d19",
    "_uuid": "8f2839f25d086af736a60e9eeb907d3b93b6e0e5",
    "execution": {
     "iopub.execute_input": "2023-01-15T09:50:08.399067Z",
     "iopub.status.busy": "2023-01-15T09:50:08.398599Z",
     "iopub.status.idle": "2023-01-15T09:50:17.242296Z",
     "shell.execute_reply": "2023-01-15T09:50:17.240752Z"
    },
    "papermill": {
     "duration": 8.853826,
     "end_time": "2023-01-15T09:50:17.244583",
     "exception": false,
     "start_time": "2023-01-15T09:50:08.390757",
     "status": "completed"
    },
    "tags": []
   },
   "outputs": [],
   "source": [
    "import numpy as np # linear algebra\n",
    "import pandas as pd # data processing, CSV file I/O (e.g. pd.read_csv)\n",
    "import matplotlib.pyplot as plt\n",
    "from matplotlib.pyplot import imread\n",
    "import cv2\n",
    "import os\n",
    "import tensorflow as tf\n",
    "import shap\n",
    "import seaborn as sns\n",
    "from sklearn import preprocessing\n",
    "import tensorflow.keras.layers as tfl\n",
    "from sklearn.metrics import accuracy_score, confusion_matrix, classification_report\n",
    "from sklearn.model_selection import KFold\n",
    "from keras.preprocessing.image import ImageDataGenerator\n",
    "from tensorflow.keras.optimizers import Adam\n",
    "\n",
    "from os import walk\n",
    "for (dirpath, dirnames, filenames) in walk(\"/YOGA/content/cleaned/DATASET\"):\n",
    "    print(\"Directory path: \", dirpath)\n"
   ]
  },
  {
   "cell_type": "code",
   "execution_count": 2,
   "id": "9ea8e769",
   "metadata": {
    "execution": {
     "iopub.execute_input": "2023-01-15T09:50:18.252014Z",
     "iopub.status.busy": "2023-01-15T09:50:18.251672Z",
     "iopub.status.idle": "2023-01-15T09:50:18.256622Z",
     "shell.execute_reply": "2023-01-15T09:50:18.255453Z"
    },
    "papermill": {
     "duration": 0.013512,
     "end_time": "2023-01-15T09:50:18.258791",
     "exception": false,
     "start_time": "2023-01-15T09:50:18.245279",
     "status": "completed"
    },
    "tags": []
   },
   "outputs": [],
   "source": [
    "train_path = \"YOGA/content/cleaned/DATASET/TRAIN\"\n",
    "test_path = \"YOGA/content/cleaned/DATASET/TEST\""
   ]
  },
  {
   "cell_type": "markdown",
   "id": "73c38ded",
   "metadata": {
    "papermill": {
     "duration": 0.005044,
     "end_time": "2023-01-15T09:50:18.268930",
     "exception": false,
     "start_time": "2023-01-15T09:50:18.263886",
     "status": "completed"
    },
    "tags": []
   },
   "source": [
    "## Data Preprocessing"
   ]
  },
  {
   "cell_type": "code",
   "execution_count": 3,
   "id": "9714fa17",
   "metadata": {
    "execution": {
     "iopub.execute_input": "2023-01-15T09:50:19.770771Z",
     "iopub.status.busy": "2023-01-15T09:50:19.769957Z",
     "iopub.status.idle": "2023-01-15T09:50:19.778533Z",
     "shell.execute_reply": "2023-01-15T09:50:19.777597Z"
    },
    "papermill": {
     "duration": 0.020285,
     "end_time": "2023-01-15T09:50:19.780530",
     "exception": false,
     "start_time": "2023-01-15T09:50:19.760245",
     "status": "completed"
    },
    "tags": []
   },
   "outputs": [],
   "source": [
    "def preprocess_images(dataset_path):\n",
    "    images_data = []\n",
    "    images_label = []\n",
    "    class_names = os.listdir(dataset_path)\n",
    "    for class_name in class_names:\n",
    "        images_path = dataset_path + '/' + class_name\n",
    "        images = os.listdir(images_path)\n",
    "        for image in images:\n",
    "            bgr_img = cv2.imread(images_path + '/' + image)\n",
    "            # dsize\n",
    "            dsize = (64,64)\n",
    "            #resize image\n",
    "            resized_image = cv2.resize(bgr_img,dsize) # resizes them to a 64x64 size\n",
    "            # convert from BGR color-space to YCrCb \n",
    "            ycrcb_img = cv2.cvtColor(resized_image, cv2.COLOR_BGR2YCrCb)\n",
    "            # create a CLAHE object \n",
    "            clahe = cv2.createCLAHE(clipLimit=2.0, tileGridSize=(8,8))\n",
    "            # Now apply CLAHE object on the YCrCb image\n",
    "            ycrcb_img[:, :, 0] = clahe.apply(ycrcb_img[:, :, 0])\n",
    "            # convert back to BGR color-space from YCrCb\n",
    "            equalized_img = cv2.cvtColor(ycrcb_img, cv2.COLOR_YCrCb2BGR)\n",
    "            # Denoise is done to remove unwanted noise to better perform\n",
    "            equalized_denoised_image = cv2.fastNlMeansDenoisingColored(equalized_img, None, 10, 10, 7, 21)\n",
    "            \n",
    "            images_data.append(equalized_denoised_image/255)  # normalizes  image between 0 and 1\n",
    "            images_label.append(class_name)\n",
    "    images_data = np.array(images_data)\n",
    "    images_label = np.array(images_label)\n",
    "    return images_data, images_label"
   ]
  },
  {
   "cell_type": "code",
   "execution_count": 4,
   "id": "9ca9b59a",
   "metadata": {
    "execution": {
     "iopub.execute_input": "2023-01-15T09:50:19.798148Z",
     "iopub.status.busy": "2023-01-15T09:50:19.797845Z",
     "iopub.status.idle": "2023-01-15T09:51:03.222969Z",
     "shell.execute_reply": "2023-01-15T09:51:03.221869Z"
    },
    "papermill": {
     "duration": 43.436954,
     "end_time": "2023-01-15T09:51:03.225719",
     "exception": false,
     "start_time": "2023-01-15T09:50:19.788765",
     "status": "completed"
    },
    "tags": []
   },
   "outputs": [],
   "source": [
    "train_images_data, train_images_label = preprocess_images(train_path)"
   ]
  },
  {
   "cell_type": "code",
   "execution_count": 5,
   "id": "37ab110b",
   "metadata": {
    "execution": {
     "iopub.execute_input": "2023-01-15T09:51:03.245057Z",
     "iopub.status.busy": "2023-01-15T09:51:03.244163Z",
     "iopub.status.idle": "2023-01-15T09:51:03.249429Z",
     "shell.execute_reply": "2023-01-15T09:51:03.248561Z"
    },
    "papermill": {
     "duration": 0.017107,
     "end_time": "2023-01-15T09:51:03.251678",
     "exception": false,
     "start_time": "2023-01-15T09:51:03.234571",
     "status": "completed"
    },
    "tags": []
   },
   "outputs": [],
   "source": [
    "#encode th image label\n",
    "def encoding_targets(labels):\n",
    "    le = preprocessing.LabelEncoder()\n",
    "    images_label = le.fit_transform(labels)\n",
    "    return images_label"
   ]
  },
  {
   "cell_type": "code",
   "execution_count": 6,
   "id": "5cf0557a",
   "metadata": {
    "execution": {
     "iopub.execute_input": "2023-01-15T09:51:03.269443Z",
     "iopub.status.busy": "2023-01-15T09:51:03.269171Z",
     "iopub.status.idle": "2023-01-15T09:51:03.274251Z",
     "shell.execute_reply": "2023-01-15T09:51:03.273399Z"
    },
    "papermill": {
     "duration": 0.016533,
     "end_time": "2023-01-15T09:51:03.276235",
     "exception": false,
     "start_time": "2023-01-15T09:51:03.259702",
     "status": "completed"
    },
    "tags": []
   },
   "outputs": [],
   "source": [
    "#get the list of images\n",
    "class_names = os.listdir(train_path)\n",
    "#gets the number of classes\n",
    "class_num = len(class_names)\n",
    "train_images_label = encoding_targets(train_images_label)"
   ]
  },
  {
   "cell_type": "markdown",
   "id": "4c011eb3",
   "metadata": {
    "papermill": {
     "duration": 0.008204,
     "end_time": "2023-01-15T09:51:03.292768",
     "exception": false,
     "start_time": "2023-01-15T09:51:03.284564",
     "status": "completed"
    },
    "tags": []
   },
   "source": [
    "## CNN Model Development"
   ]
  },
  {
   "cell_type": "code",
   "execution_count": 7,
   "id": "0ffda537",
   "metadata": {
    "execution": {
     "iopub.execute_input": "2023-01-15T09:51:03.310925Z",
     "iopub.status.busy": "2023-01-15T09:51:03.310587Z",
     "iopub.status.idle": "2023-01-15T09:51:08.508929Z",
     "shell.execute_reply": "2023-01-15T09:51:08.506810Z"
    },
    "papermill": {
     "duration": 5.210993,
     "end_time": "2023-01-15T09:51:08.512227",
     "exception": false,
     "start_time": "2023-01-15T09:51:03.301234",
     "status": "completed"
    },
    "tags": []
   },
   "outputs": [
    {
     "name": "stdout",
     "output_type": "stream",
     "text": [
      "Model: \"sequential\"\n",
      "_________________________________________________________________\n",
      " Layer (type)                Output Shape              Param #   \n",
      "=================================================================\n",
      " conv2d (Conv2D)             (None, 62, 62, 16)        448       \n",
      "                                                                 \n",
      " max_pooling2d (MaxPooling2D  (None, 31, 31, 16)       0         \n",
      " )                                                               \n",
      "                                                                 \n",
      " conv2d_1 (Conv2D)           (None, 29, 29, 32)        4640      \n",
      "                                                                 \n",
      " batch_normalization (BatchN  (None, 29, 29, 32)       128       \n",
      " ormalization)                                                   \n",
      "                                                                 \n",
      " dropout (Dropout)           (None, 29, 29, 32)        0         \n",
      "                                                                 \n",
      " conv2d_2 (Conv2D)           (None, 27, 27, 64)        18496     \n",
      "                                                                 \n",
      " max_pooling2d_1 (MaxPooling  (None, 13, 13, 64)       0         \n",
      " 2D)                                                             \n",
      "                                                                 \n",
      " batch_normalization_1 (Batc  (None, 13, 13, 64)       256       \n",
      " hNormalization)                                                 \n",
      "                                                                 \n",
      " dropout_1 (Dropout)         (None, 13, 13, 64)        0         \n",
      "                                                                 \n",
      " flatten (Flatten)           (None, 10816)             0         \n",
      "                                                                 \n",
      " dense (Dense)               (None, 512)               5538304   \n",
      "                                                                 \n",
      " batch_normalization_2 (Batc  (None, 512)              2048      \n",
      " hNormalization)                                                 \n",
      "                                                                 \n",
      " dropout_2 (Dropout)         (None, 512)               0         \n",
      "                                                                 \n",
      " dense_1 (Dense)             (None, 5)                 2565      \n",
      "                                                                 \n",
      "=================================================================\n",
      "Total params: 5,566,885\n",
      "Trainable params: 5,565,669\n",
      "Non-trainable params: 1,216\n",
      "_________________________________________________________________\n"
     ]
    }
   ],
   "source": [
    "#this CNN is constracted as a sequential model\n",
    "model = tf.keras.Sequential([\n",
    "        ## Conv : extraction feature min image\n",
    "        #16 : number Filter / 3,3 : size of filter\n",
    "        #3 color channels (red, green, blue)\n",
    "\n",
    "        tfl.Conv2D(filters=16, kernel_size=(3,3), activation='relu',input_shape=(64,64,3)),\n",
    "    \n",
    "       #pooling\n",
    "       #slide\n",
    "\n",
    "        tfl.MaxPool2D(pool_size=(2,2)),\n",
    "        tfl.Conv2D(filters=32, kernel_size=(3,3), activation='relu'),\n",
    "        tfl.BatchNormalization(axis=-1),\n",
    "    \n",
    "        #Dropout is a regularization technique used to prevent overfitting in neural networks\n",
    "        tfl.Dropout(rate=0.25),\n",
    "        \n",
    "    \n",
    "        tfl.Conv2D(filters=64, kernel_size=(3,3), activation='relu'),\n",
    "        tfl.MaxPool2D(pool_size=(2,2)),\n",
    "        tfl.BatchNormalization(axis=-1),\n",
    "        tfl.Dropout(rate=0.25),    \n",
    "        \n",
    "    \n",
    "        #Flatten is a layer that reshapes the input tensor into a 1D vector\n",
    "        tfl.Flatten(),\n",
    "    \n",
    "        # fully connected : creation neurone et connexion \n",
    "        # 512 : the number of output neurons in the layer \n",
    "        tfl.Dense(512,activation='relu'),\n",
    "        tfl.BatchNormalization(),\n",
    "        tfl.Dropout(rate=0.5),\n",
    "    \n",
    "        tfl.Dense(class_num, activation='softmax')\n",
    "        \n",
    "])\n",
    "model.summary()"
   ]
  },
  {
   "cell_type": "code",
   "execution_count": 8,
   "id": "f29441f0",
   "metadata": {
    "execution": {
     "iopub.execute_input": "2023-01-15T09:51:08.534097Z",
     "iopub.status.busy": "2023-01-15T09:51:08.533675Z",
     "iopub.status.idle": "2023-01-15T09:51:08.548090Z",
     "shell.execute_reply": "2023-01-15T09:51:08.547221Z"
    },
    "papermill": {
     "duration": 0.027517,
     "end_time": "2023-01-15T09:51:08.550375",
     "exception": false,
     "start_time": "2023-01-15T09:51:08.522858",
     "status": "completed"
    },
    "tags": []
   },
   "outputs": [],
   "source": [
    "epochs = 20\n",
    "\n",
    "### learning rate  which is a hyperparameter that controls the step size vitesse apprentissage\n",
    "learning_rate = 0.001\n",
    "\n",
    "opt = tf.keras.optimizers.legacy.Adam(learning_rate=learning_rate)\n",
    "model.compile(loss='sparse_categorical_crossentropy', optimizer=opt, metrics=['accuracy'])"
   ]
  },
  {
   "cell_type": "markdown",
   "id": "b7a4e565",
   "metadata": {
    "papermill": {
     "duration": 0.008588,
     "end_time": "2023-01-15T09:51:08.568184",
     "exception": false,
     "start_time": "2023-01-15T09:51:08.559596",
     "status": "completed"
    },
    "tags": []
   },
   "source": [
    "## Training Model"
   ]
  },
  {
   "cell_type": "markdown",
   "id": "c0cf3567",
   "metadata": {
    "papermill": {
     "duration": 0.008511,
     "end_time": "2023-01-15T09:51:08.585325",
     "exception": false,
     "start_time": "2023-01-15T09:51:08.576814",
     "status": "completed"
    },
    "tags": []
   },
   "source": [
    "### K-fold Cross validation"
   ]
  },
  {
   "cell_type": "code",
   "execution_count": 9,
   "id": "826f0d86",
   "metadata": {
    "execution": {
     "iopub.execute_input": "2023-01-15T09:51:08.605135Z",
     "iopub.status.busy": "2023-01-15T09:51:08.604800Z",
     "iopub.status.idle": "2023-01-15T09:51:08.609791Z",
     "shell.execute_reply": "2023-01-15T09:51:08.608595Z"
    },
    "papermill": {
     "duration": 0.018009,
     "end_time": "2023-01-15T09:51:08.612466",
     "exception": false,
     "start_time": "2023-01-15T09:51:08.594457",
     "status": "completed"
    },
    "tags": []
   },
   "outputs": [],
   "source": [
    "# Define the K-fold Cross Validator\n",
    "kfold = KFold(n_splits=5, shuffle=True,random_state=2)\n",
    "# evaluate the performance of a model / divide a dataset into k equally sized \"folds\" of data"
   ]
  },
  {
   "cell_type": "code",
   "execution_count": 10,
   "id": "15e1dd54",
   "metadata": {
    "execution": {
     "iopub.execute_input": "2023-01-15T09:51:08.633158Z",
     "iopub.status.busy": "2023-01-15T09:51:08.632835Z",
     "iopub.status.idle": "2023-01-15T09:51:53.907583Z",
     "shell.execute_reply": "2023-01-15T09:51:53.906390Z"
    },
    "papermill": {
     "duration": 45.287638,
     "end_time": "2023-01-15T09:51:53.909778",
     "exception": false,
     "start_time": "2023-01-15T09:51:08.622140",
     "status": "completed"
    },
    "tags": []
   },
   "outputs": [
    {
     "name": "stdout",
     "output_type": "stream",
     "text": [
      "------------------------------------------------------------------------\n",
      "Training for fold 1 ...\n",
      "Epoch 1/20\n",
      "54/54 [==============================] - 7s 103ms/step - loss: 2.1180 - accuracy: 0.4105 - val_loss: 1.5759 - val_accuracy: 0.2465\n",
      "Epoch 2/20\n",
      "54/54 [==============================] - 5s 88ms/step - loss: 1.2165 - accuracy: 0.6070 - val_loss: 1.5743 - val_accuracy: 0.2093\n",
      "Epoch 3/20\n",
      "54/54 [==============================] - 5s 101ms/step - loss: 0.7288 - accuracy: 0.7547 - val_loss: 2.2245 - val_accuracy: 0.1953\n",
      "Epoch 4/20\n",
      "54/54 [==============================] - 5s 99ms/step - loss: 0.5367 - accuracy: 0.8012 - val_loss: 2.6714 - val_accuracy: 0.1907\n",
      "Epoch 5/20\n",
      "54/54 [==============================] - 5s 94ms/step - loss: 0.3921 - accuracy: 0.8628 - val_loss: 2.9761 - val_accuracy: 0.1907\n",
      "Epoch 6/20\n",
      "54/54 [==============================] - 5s 90ms/step - loss: 0.2849 - accuracy: 0.9058 - val_loss: 2.1241 - val_accuracy: 0.3442\n",
      "Epoch 7/20\n",
      "54/54 [==============================] - 5s 96ms/step - loss: 0.1732 - accuracy: 0.9349 - val_loss: 2.1984 - val_accuracy: 0.3767\n",
      "Epoch 8/20\n",
      "54/54 [==============================] - 5s 98ms/step - loss: 0.1570 - accuracy: 0.9453 - val_loss: 1.3482 - val_accuracy: 0.5256\n",
      "Epoch 9/20\n",
      "54/54 [==============================] - 5s 98ms/step - loss: 0.1891 - accuracy: 0.9453 - val_loss: 1.2848 - val_accuracy: 0.6512\n",
      "Epoch 10/20\n",
      "54/54 [==============================] - 5s 93ms/step - loss: 0.1302 - accuracy: 0.9523 - val_loss: 1.5775 - val_accuracy: 0.5442\n",
      "Epoch 11/20\n",
      "54/54 [==============================] - 5s 98ms/step - loss: 0.1106 - accuracy: 0.9593 - val_loss: 1.3812 - val_accuracy: 0.6884\n",
      "Epoch 12/20\n",
      "54/54 [==============================] - 5s 95ms/step - loss: 0.0899 - accuracy: 0.9698 - val_loss: 1.3210 - val_accuracy: 0.6744\n",
      "Epoch 13/20\n",
      "54/54 [==============================] - 5s 94ms/step - loss: 0.0939 - accuracy: 0.9721 - val_loss: 1.4450 - val_accuracy: 0.7209\n",
      "Epoch 14/20\n",
      "54/54 [==============================] - 5s 93ms/step - loss: 0.0788 - accuracy: 0.9767 - val_loss: 1.6575 - val_accuracy: 0.7209\n",
      "Epoch 15/20\n",
      "54/54 [==============================] - 5s 99ms/step - loss: 0.0818 - accuracy: 0.9756 - val_loss: 1.5869 - val_accuracy: 0.6512\n",
      "Epoch 16/20\n",
      "54/54 [==============================] - 5s 97ms/step - loss: 0.0684 - accuracy: 0.9709 - val_loss: 1.5262 - val_accuracy: 0.6930\n",
      "Epoch 17/20\n",
      "54/54 [==============================] - 5s 101ms/step - loss: 0.0649 - accuracy: 0.9721 - val_loss: 2.0836 - val_accuracy: 0.6744\n",
      "Epoch 18/20\n",
      "54/54 [==============================] - 5s 93ms/step - loss: 0.0727 - accuracy: 0.9698 - val_loss: 1.6231 - val_accuracy: 0.7116\n",
      "Epoch 19/20\n",
      "54/54 [==============================] - 5s 93ms/step - loss: 0.0745 - accuracy: 0.9733 - val_loss: 1.6225 - val_accuracy: 0.6837\n",
      "Epoch 20/20\n",
      "54/54 [==============================] - 5s 95ms/step - loss: 0.0785 - accuracy: 0.9767 - val_loss: 2.2147 - val_accuracy: 0.6093\n",
      "------------------------------------------------------------------------\n",
      "Training for fold 2 ...\n",
      "Epoch 1/20\n",
      "54/54 [==============================] - 5s 94ms/step - loss: 0.7179 - accuracy: 0.8151 - val_loss: 0.3930 - val_accuracy: 0.8698\n",
      "Epoch 2/20\n",
      "54/54 [==============================] - 5s 95ms/step - loss: 0.3582 - accuracy: 0.8802 - val_loss: 0.1897 - val_accuracy: 0.9209\n",
      "Epoch 3/20\n",
      "54/54 [==============================] - 5s 102ms/step - loss: 0.2288 - accuracy: 0.9349 - val_loss: 0.1393 - val_accuracy: 0.9628\n",
      "Epoch 4/20\n",
      "54/54 [==============================] - 5s 93ms/step - loss: 0.2383 - accuracy: 0.9186 - val_loss: 0.2968 - val_accuracy: 0.9116\n",
      "Epoch 5/20\n",
      "54/54 [==============================] - 6s 103ms/step - loss: 0.1447 - accuracy: 0.9488 - val_loss: 0.1808 - val_accuracy: 0.9163\n",
      "Epoch 6/20\n",
      "54/54 [==============================] - 6s 104ms/step - loss: 0.0969 - accuracy: 0.9686 - val_loss: 0.3305 - val_accuracy: 0.8837\n",
      "Epoch 7/20\n",
      "54/54 [==============================] - 5s 101ms/step - loss: 0.0682 - accuracy: 0.9814 - val_loss: 0.0692 - val_accuracy: 0.9721\n",
      "Epoch 8/20\n",
      "54/54 [==============================] - 6s 113ms/step - loss: 0.0920 - accuracy: 0.9709 - val_loss: 0.0991 - val_accuracy: 0.9721\n",
      "Epoch 9/20\n",
      "54/54 [==============================] - 5s 99ms/step - loss: 0.0670 - accuracy: 0.9756 - val_loss: 0.6381 - val_accuracy: 0.8000\n",
      "Epoch 10/20\n",
      "54/54 [==============================] - 5s 98ms/step - loss: 0.0599 - accuracy: 0.9837 - val_loss: 0.5012 - val_accuracy: 0.8093\n",
      "Epoch 11/20\n",
      "54/54 [==============================] - 5s 94ms/step - loss: 0.0601 - accuracy: 0.9814 - val_loss: 0.1412 - val_accuracy: 0.9442\n",
      "Epoch 12/20\n",
      "54/54 [==============================] - 5s 99ms/step - loss: 0.0533 - accuracy: 0.9895 - val_loss: 0.1569 - val_accuracy: 0.9395\n",
      "Epoch 13/20\n",
      "54/54 [==============================] - 5s 94ms/step - loss: 0.0691 - accuracy: 0.9767 - val_loss: 0.1831 - val_accuracy: 0.9256\n",
      "Epoch 14/20\n",
      "54/54 [==============================] - 5s 96ms/step - loss: 0.0489 - accuracy: 0.9907 - val_loss: 0.3419 - val_accuracy: 0.9070\n",
      "Epoch 15/20\n",
      "54/54 [==============================] - 5s 94ms/step - loss: 0.0526 - accuracy: 0.9849 - val_loss: 0.1515 - val_accuracy: 0.9535\n",
      "Epoch 16/20\n",
      "54/54 [==============================] - 5s 93ms/step - loss: 0.0472 - accuracy: 0.9837 - val_loss: 0.1778 - val_accuracy: 0.9302\n",
      "Epoch 17/20\n",
      "54/54 [==============================] - 6s 105ms/step - loss: 0.0550 - accuracy: 0.9860 - val_loss: 0.3354 - val_accuracy: 0.8651\n",
      "Epoch 18/20\n",
      "54/54 [==============================] - 6s 116ms/step - loss: 0.0204 - accuracy: 0.9942 - val_loss: 0.3478 - val_accuracy: 0.8651\n",
      "Epoch 19/20\n",
      "54/54 [==============================] - 5s 95ms/step - loss: 0.0263 - accuracy: 0.9907 - val_loss: 0.2201 - val_accuracy: 0.9116\n",
      "Epoch 20/20\n",
      "54/54 [==============================] - 6s 107ms/step - loss: 0.0223 - accuracy: 0.9907 - val_loss: 0.2073 - val_accuracy: 0.9163\n",
      "------------------------------------------------------------------------\n",
      "Training for fold 3 ...\n",
      "Epoch 1/20\n",
      "54/54 [==============================] - 6s 115ms/step - loss: 0.1562 - accuracy: 0.9558 - val_loss: 0.0441 - val_accuracy: 0.9907\n",
      "Epoch 2/20\n",
      "54/54 [==============================] - 6s 114ms/step - loss: 0.1138 - accuracy: 0.9616 - val_loss: 0.0348 - val_accuracy: 0.9860\n",
      "Epoch 3/20\n",
      "54/54 [==============================] - 6s 108ms/step - loss: 0.0733 - accuracy: 0.9756 - val_loss: 0.0326 - val_accuracy: 0.9860\n",
      "Epoch 4/20\n",
      "54/54 [==============================] - 6s 106ms/step - loss: 0.0824 - accuracy: 0.9721 - val_loss: 0.0348 - val_accuracy: 0.9814\n",
      "Epoch 5/20\n",
      "54/54 [==============================] - 6s 104ms/step - loss: 0.0441 - accuracy: 0.9849 - val_loss: 0.0347 - val_accuracy: 0.9860\n",
      "Epoch 6/20\n",
      "54/54 [==============================] - 6s 102ms/step - loss: 0.0405 - accuracy: 0.9860 - val_loss: 0.0550 - val_accuracy: 0.9767\n",
      "Epoch 7/20\n",
      "54/54 [==============================] - 6s 103ms/step - loss: 0.0333 - accuracy: 0.9884 - val_loss: 0.0432 - val_accuracy: 0.9860\n",
      "Epoch 8/20\n",
      "54/54 [==============================] - 6s 116ms/step - loss: 0.0481 - accuracy: 0.9814 - val_loss: 0.0423 - val_accuracy: 0.9814\n",
      "Epoch 9/20\n",
      "54/54 [==============================] - 6s 106ms/step - loss: 0.0272 - accuracy: 0.9919 - val_loss: 0.0626 - val_accuracy: 0.9814\n",
      "Epoch 10/20\n",
      "54/54 [==============================] - 6s 106ms/step - loss: 0.0389 - accuracy: 0.9849 - val_loss: 0.0851 - val_accuracy: 0.9860\n",
      "Epoch 11/20\n",
      "54/54 [==============================] - 6s 116ms/step - loss: 0.0350 - accuracy: 0.9860 - val_loss: 0.0710 - val_accuracy: 0.9907\n",
      "Epoch 12/20\n",
      "54/54 [==============================] - 6s 116ms/step - loss: 0.0284 - accuracy: 0.9895 - val_loss: 0.1007 - val_accuracy: 0.9767\n",
      "Epoch 13/20\n",
      "54/54 [==============================] - 7s 121ms/step - loss: 0.0197 - accuracy: 0.9953 - val_loss: 0.0712 - val_accuracy: 0.9907\n",
      "Epoch 14/20\n",
      "54/54 [==============================] - 6s 114ms/step - loss: 0.0152 - accuracy: 0.9953 - val_loss: 0.0587 - val_accuracy: 0.9907\n",
      "Epoch 15/20\n",
      "54/54 [==============================] - 6s 104ms/step - loss: 0.0265 - accuracy: 0.9930 - val_loss: 0.0793 - val_accuracy: 0.9814\n",
      "Epoch 16/20\n",
      "54/54 [==============================] - 5s 97ms/step - loss: 0.0277 - accuracy: 0.9919 - val_loss: 0.0897 - val_accuracy: 0.9674\n",
      "Epoch 17/20\n",
      "54/54 [==============================] - 6s 108ms/step - loss: 0.0257 - accuracy: 0.9942 - val_loss: 0.0922 - val_accuracy: 0.9674\n",
      "Epoch 18/20\n",
      "54/54 [==============================] - 5s 101ms/step - loss: 0.0280 - accuracy: 0.9907 - val_loss: 0.0574 - val_accuracy: 0.9860\n",
      "Epoch 19/20\n",
      "54/54 [==============================] - 6s 102ms/step - loss: 0.0134 - accuracy: 0.9965 - val_loss: 0.0943 - val_accuracy: 0.9767\n",
      "Epoch 20/20\n",
      "54/54 [==============================] - 6s 104ms/step - loss: 0.0329 - accuracy: 0.9895 - val_loss: 0.1297 - val_accuracy: 0.9814\n",
      "------------------------------------------------------------------------\n",
      "Training for fold 4 ...\n",
      "Epoch 1/20\n",
      "54/54 [==============================] - 5s 97ms/step - loss: 0.0519 - accuracy: 0.9872 - val_loss: 0.0018 - val_accuracy: 1.0000\n",
      "Epoch 2/20\n",
      "54/54 [==============================] - 5s 94ms/step - loss: 0.0719 - accuracy: 0.9814 - val_loss: 0.0313 - val_accuracy: 0.9953\n",
      "Epoch 3/20\n",
      "54/54 [==============================] - 5s 100ms/step - loss: 0.0728 - accuracy: 0.9709 - val_loss: 0.0287 - val_accuracy: 0.9953\n",
      "Epoch 4/20\n",
      "54/54 [==============================] - 5s 96ms/step - loss: 0.0581 - accuracy: 0.9814 - val_loss: 0.0041 - val_accuracy: 1.0000\n",
      "Epoch 5/20\n",
      "54/54 [==============================] - 5s 101ms/step - loss: 0.0674 - accuracy: 0.9802 - val_loss: 0.0211 - val_accuracy: 0.9953\n",
      "Epoch 6/20\n",
      "54/54 [==============================] - 6s 113ms/step - loss: 0.0596 - accuracy: 0.9826 - val_loss: 0.0344 - val_accuracy: 0.9860\n",
      "Epoch 7/20\n",
      "54/54 [==============================] - 5s 99ms/step - loss: 0.0636 - accuracy: 0.9814 - val_loss: 7.5288e-04 - val_accuracy: 1.0000\n",
      "Epoch 8/20\n",
      "54/54 [==============================] - 6s 104ms/step - loss: 0.0416 - accuracy: 0.9826 - val_loss: 0.0095 - val_accuracy: 1.0000\n",
      "Epoch 9/20\n",
      "54/54 [==============================] - 6s 103ms/step - loss: 0.0230 - accuracy: 0.9965 - val_loss: 0.0020 - val_accuracy: 1.0000\n",
      "Epoch 10/20\n",
      "54/54 [==============================] - 6s 108ms/step - loss: 0.0152 - accuracy: 0.9953 - val_loss: 6.5920e-04 - val_accuracy: 1.0000\n",
      "Epoch 11/20\n",
      "54/54 [==============================] - 6s 112ms/step - loss: 0.0312 - accuracy: 0.9895 - val_loss: 0.0029 - val_accuracy: 1.0000\n",
      "Epoch 12/20\n",
      "54/54 [==============================] - 5s 94ms/step - loss: 0.0339 - accuracy: 0.9872 - val_loss: 0.0271 - val_accuracy: 0.9907\n",
      "Epoch 13/20\n",
      "54/54 [==============================] - 6s 103ms/step - loss: 0.0285 - accuracy: 0.9884 - val_loss: 0.0445 - val_accuracy: 0.9814\n",
      "Epoch 14/20\n",
      "54/54 [==============================] - 6s 102ms/step - loss: 0.0767 - accuracy: 0.9779 - val_loss: 0.0070 - val_accuracy: 1.0000\n",
      "Epoch 15/20\n",
      "54/54 [==============================] - 5s 94ms/step - loss: 0.0302 - accuracy: 0.9872 - val_loss: 0.0246 - val_accuracy: 1.0000\n",
      "Epoch 16/20\n",
      "54/54 [==============================] - 5s 95ms/step - loss: 0.0484 - accuracy: 0.9826 - val_loss: 0.5834 - val_accuracy: 0.8419\n",
      "Epoch 17/20\n",
      "54/54 [==============================] - 5s 90ms/step - loss: 0.0782 - accuracy: 0.9674 - val_loss: 0.0154 - val_accuracy: 0.9953\n",
      "Epoch 18/20\n",
      "54/54 [==============================] - 5s 89ms/step - loss: 0.0581 - accuracy: 0.9814 - val_loss: 0.0102 - val_accuracy: 1.0000\n",
      "Epoch 19/20\n",
      "54/54 [==============================] - 5s 92ms/step - loss: 0.0353 - accuracy: 0.9884 - val_loss: 0.0049 - val_accuracy: 1.0000\n",
      "Epoch 20/20\n",
      "54/54 [==============================] - 5s 93ms/step - loss: 0.0441 - accuracy: 0.9884 - val_loss: 0.0357 - val_accuracy: 0.9860\n",
      "------------------------------------------------------------------------\n",
      "Training for fold 5 ...\n",
      "Epoch 1/20\n",
      "54/54 [==============================] - 5s 100ms/step - loss: 0.0839 - accuracy: 0.9698 - val_loss: 0.0048 - val_accuracy: 0.9953\n",
      "Epoch 2/20\n",
      "54/54 [==============================] - 6s 104ms/step - loss: 0.0699 - accuracy: 0.9802 - val_loss: 0.0011 - val_accuracy: 1.0000\n",
      "Epoch 3/20\n",
      "54/54 [==============================] - 6s 104ms/step - loss: 0.0647 - accuracy: 0.9767 - val_loss: 0.0126 - val_accuracy: 1.0000\n",
      "Epoch 4/20\n",
      "54/54 [==============================] - 5s 94ms/step - loss: 0.0864 - accuracy: 0.9721 - val_loss: 0.0053 - val_accuracy: 1.0000\n",
      "Epoch 5/20\n",
      "54/54 [==============================] - 5s 87ms/step - loss: 0.0518 - accuracy: 0.9849 - val_loss: 0.0137 - val_accuracy: 0.9953\n",
      "Epoch 6/20\n",
      "54/54 [==============================] - 5s 93ms/step - loss: 0.0703 - accuracy: 0.9779 - val_loss: 0.0208 - val_accuracy: 0.9953\n",
      "Epoch 7/20\n",
      "54/54 [==============================] - 5s 94ms/step - loss: 0.0544 - accuracy: 0.9802 - val_loss: 0.0015 - val_accuracy: 1.0000\n",
      "Epoch 8/20\n",
      "54/54 [==============================] - 5s 88ms/step - loss: 0.0418 - accuracy: 0.9872 - val_loss: 0.0169 - val_accuracy: 0.9953\n",
      "Epoch 9/20\n",
      "54/54 [==============================] - 5s 95ms/step - loss: 0.0286 - accuracy: 0.9895 - val_loss: 0.0042 - val_accuracy: 1.0000\n",
      "Epoch 10/20\n",
      "54/54 [==============================] - 5s 101ms/step - loss: 0.0640 - accuracy: 0.9791 - val_loss: 0.1001 - val_accuracy: 0.9581\n",
      "Epoch 11/20\n",
      "54/54 [==============================] - 5s 93ms/step - loss: 0.0548 - accuracy: 0.9802 - val_loss: 0.0294 - val_accuracy: 0.9860\n",
      "Epoch 12/20\n",
      "54/54 [==============================] - 5s 96ms/step - loss: 0.0329 - accuracy: 0.9907 - val_loss: 0.0117 - val_accuracy: 0.9953\n",
      "Epoch 13/20\n",
      "54/54 [==============================] - 6s 102ms/step - loss: 0.0288 - accuracy: 0.9930 - val_loss: 0.0082 - val_accuracy: 1.0000\n",
      "Epoch 14/20\n",
      "54/54 [==============================] - 6s 106ms/step - loss: 0.0412 - accuracy: 0.9884 - val_loss: 0.0283 - val_accuracy: 0.9907\n",
      "Epoch 15/20\n",
      "54/54 [==============================] - 6s 104ms/step - loss: 0.0174 - accuracy: 0.9942 - val_loss: 0.0581 - val_accuracy: 0.9860\n",
      "Epoch 16/20\n",
      "54/54 [==============================] - 6s 105ms/step - loss: 0.0138 - accuracy: 0.9965 - val_loss: 0.0241 - val_accuracy: 0.9953\n",
      "Epoch 17/20\n",
      "54/54 [==============================] - 5s 92ms/step - loss: 0.0301 - accuracy: 0.9872 - val_loss: 0.0098 - val_accuracy: 1.0000\n",
      "Epoch 18/20\n",
      "54/54 [==============================] - 5s 92ms/step - loss: 0.0203 - accuracy: 0.9942 - val_loss: 0.0105 - val_accuracy: 0.9953\n",
      "Epoch 19/20\n",
      "54/54 [==============================] - 5s 94ms/step - loss: 0.0260 - accuracy: 0.9895 - val_loss: 0.0083 - val_accuracy: 0.9953\n",
      "Epoch 20/20\n",
      "54/54 [==============================] - 5s 90ms/step - loss: 0.0264 - accuracy: 0.9919 - val_loss: 0.0042 - val_accuracy: 1.0000\n"
     ]
    }
   ],
   "source": [
    "# Define per-fold score containers\n",
    "val_acc_per_fold = []\n",
    "val_loss_per_fold = []\n",
    "loss_per_fold = []\n",
    "acc_per_fold = []\n",
    "\n",
    "# K-fold Cross Validation model evaluation\n",
    "fold_no = 1\n",
    "for train, valid in kfold.split(train_images_data, train_images_label):\n",
    "    \n",
    "    # Generate a print\n",
    "    print('------------------------------------------------------------------------')\n",
    "    print(f'Training for fold {fold_no} ...')\n",
    "    history = model.fit(train_images_data[train], train_images_label[train], batch_size=16, \n",
    "                        epochs=epochs, validation_data=(train_images_data[valid], train_images_label[valid]))\n",
    "    val_acc_per_fold.append(history.history['val_accuracy'])\n",
    "    acc_per_fold.append(history.history['accuracy'])\n",
    "    val_loss_per_fold.append(history.history['val_loss'])\n",
    "    loss_per_fold.append(history.history['loss'])\n",
    "    # Increase fold number\n",
    "    fold_no += 1"
   ]
  },
  {
   "cell_type": "code",
   "execution_count": 11,
   "id": "1e45849f",
   "metadata": {
    "execution": {
     "iopub.execute_input": "2023-01-15T09:51:54.003802Z",
     "iopub.status.busy": "2023-01-15T09:51:54.002269Z",
     "iopub.status.idle": "2023-01-15T09:51:54.010276Z",
     "shell.execute_reply": "2023-01-15T09:51:54.008935Z"
    },
    "papermill": {
     "duration": 0.056923,
     "end_time": "2023-01-15T09:51:54.013308",
     "exception": false,
     "start_time": "2023-01-15T09:51:53.956385",
     "status": "completed"
    },
    "tags": []
   },
   "outputs": [
    {
     "name": "stdout",
     "output_type": "stream",
     "text": [
      "Mean_Training_Accuracy: 96.16860467195511\n",
      "Mean_Validation_Accuracy: 87.78139506280422\n"
     ]
    }
   ],
   "source": [
    "print(f'Mean_Training_Accuracy: {np.mean(acc_per_fold)*100}')\n",
    "print(f'Mean_Validation_Accuracy: {np.mean(val_acc_per_fold)*100}')"
   ]
  },
  {
   "cell_type": "markdown",
   "id": "7e4793f7",
   "metadata": {
    "papermill": {
     "duration": 0.044514,
     "end_time": "2023-01-15T09:51:54.281984",
     "exception": false,
     "start_time": "2023-01-15T09:51:54.237470",
     "status": "completed"
    },
    "tags": []
   },
   "source": [
    "### Data Augmentation\n"
   ]
  },
  {
   "cell_type": "code",
   "execution_count": 26,
   "id": "bdaedbc2",
   "metadata": {
    "execution": {
     "iopub.execute_input": "2023-01-15T09:51:54.373210Z",
     "iopub.status.busy": "2023-01-15T09:51:54.372828Z",
     "iopub.status.idle": "2023-01-15T09:51:54.378244Z",
     "shell.execute_reply": "2023-01-15T09:51:54.377073Z"
    },
    "papermill": {
     "duration": 0.053366,
     "end_time": "2023-01-15T09:51:54.380479",
     "exception": false,
     "start_time": "2023-01-15T09:51:54.327113",
     "status": "completed"
    },
    "tags": []
   },
   "outputs": [],
   "source": [
    "dataAugmentaion = ImageDataGenerator(rotation_range = 10, zoom_range = 0.30)"
   ]
  },
  {
   "cell_type": "code",
   "execution_count": 27,
   "id": "d401cde0",
   "metadata": {
    "execution": {
     "iopub.execute_input": "2023-01-15T09:51:54.472829Z",
     "iopub.status.busy": "2023-01-15T09:51:54.472550Z",
     "iopub.status.idle": "2023-01-15T09:54:02.478031Z",
     "shell.execute_reply": "2023-01-15T09:54:02.476913Z"
    },
    "papermill": {
     "duration": 128.054225,
     "end_time": "2023-01-15T09:54:02.480389",
     "exception": false,
     "start_time": "2023-01-15T09:51:54.426164",
     "status": "completed"
    },
    "tags": []
   },
   "outputs": [
    {
     "name": "stdout",
     "output_type": "stream",
     "text": [
      "------------------------------------------------------------------------\n",
      "Training for fold 1 ...\n",
      "Epoch 1/20\n"
     ]
    },
    {
     "name": "stderr",
     "output_type": "stream",
     "text": [
      "`Model.fit_generator` is deprecated and will be removed in a future version. Please use `Model.fit`, which supports generators.\n"
     ]
    },
    {
     "name": "stdout",
     "output_type": "stream",
     "text": [
      "54/54 [==============================] - 5s 75ms/step - loss: 1.4292 - accuracy: 0.6965 - val_loss: 1.2557 - val_accuracy: 0.7535\n",
      "Epoch 2/20\n",
      "54/54 [==============================] - 4s 78ms/step - loss: 1.1436 - accuracy: 0.7058 - val_loss: 0.3470 - val_accuracy: 0.8930\n",
      "Epoch 3/20\n",
      "54/54 [==============================] - 5s 88ms/step - loss: 1.0235 - accuracy: 0.6884 - val_loss: 0.2079 - val_accuracy: 0.9209\n",
      "Epoch 4/20\n",
      "54/54 [==============================] - 5s 89ms/step - loss: 0.7863 - accuracy: 0.7616 - val_loss: 0.2797 - val_accuracy: 0.8884\n",
      "Epoch 5/20\n",
      "54/54 [==============================] - 5s 89ms/step - loss: 0.7504 - accuracy: 0.7628 - val_loss: 0.1216 - val_accuracy: 0.9442\n",
      "Epoch 6/20\n",
      "54/54 [==============================] - 5s 90ms/step - loss: 0.5818 - accuracy: 0.7965 - val_loss: 0.1666 - val_accuracy: 0.9349\n",
      "Epoch 7/20\n",
      "54/54 [==============================] - 6s 101ms/step - loss: 0.5581 - accuracy: 0.8058 - val_loss: 0.2699 - val_accuracy: 0.9163\n",
      "Epoch 8/20\n",
      "54/54 [==============================] - 5s 97ms/step - loss: 0.5238 - accuracy: 0.8186 - val_loss: 0.2055 - val_accuracy: 0.9395\n",
      "Epoch 9/20\n",
      "54/54 [==============================] - 5s 88ms/step - loss: 0.4725 - accuracy: 0.8407 - val_loss: 0.2059 - val_accuracy: 0.9070\n",
      "Epoch 10/20\n",
      "54/54 [==============================] - 5s 93ms/step - loss: 0.4512 - accuracy: 0.8360 - val_loss: 0.3097 - val_accuracy: 0.9023\n",
      "Epoch 11/20\n",
      "54/54 [==============================] - 5s 89ms/step - loss: 0.4525 - accuracy: 0.8593 - val_loss: 0.2130 - val_accuracy: 0.9209\n",
      "Epoch 12/20\n",
      "54/54 [==============================] - 5s 89ms/step - loss: 0.4022 - accuracy: 0.8523 - val_loss: 0.3287 - val_accuracy: 0.8977\n",
      "Epoch 13/20\n",
      "54/54 [==============================] - 5s 92ms/step - loss: 0.4333 - accuracy: 0.8733 - val_loss: 0.3496 - val_accuracy: 0.8930\n",
      "Epoch 14/20\n",
      "54/54 [==============================] - 5s 89ms/step - loss: 0.4209 - accuracy: 0.8663 - val_loss: 0.2495 - val_accuracy: 0.9256\n",
      "Epoch 15/20\n",
      "54/54 [==============================] - 5s 89ms/step - loss: 0.3244 - accuracy: 0.8895 - val_loss: 0.2786 - val_accuracy: 0.9209\n",
      "Epoch 16/20\n",
      "54/54 [==============================] - 5s 90ms/step - loss: 0.3837 - accuracy: 0.8744 - val_loss: 0.3251 - val_accuracy: 0.9116\n",
      "Epoch 17/20\n",
      "54/54 [==============================] - 5s 89ms/step - loss: 0.3504 - accuracy: 0.8698 - val_loss: 0.2522 - val_accuracy: 0.9023\n",
      "Epoch 18/20\n",
      "54/54 [==============================] - 5s 90ms/step - loss: 0.3054 - accuracy: 0.8884 - val_loss: 0.3224 - val_accuracy: 0.9116\n",
      "Epoch 19/20\n",
      "54/54 [==============================] - 5s 90ms/step - loss: 0.3230 - accuracy: 0.8884 - val_loss: 0.4283 - val_accuracy: 0.8930\n",
      "Epoch 20/20\n",
      "54/54 [==============================] - 5s 90ms/step - loss: 0.2436 - accuracy: 0.9070 - val_loss: 0.3466 - val_accuracy: 0.9116\n",
      "------------------------------------------------------------------------\n",
      "Training for fold 2 ...\n",
      "Epoch 1/20\n",
      "54/54 [==============================] - 5s 90ms/step - loss: 0.5059 - accuracy: 0.8477 - val_loss: 0.0097 - val_accuracy: 1.0000\n",
      "Epoch 2/20\n",
      "54/54 [==============================] - 5s 89ms/step - loss: 0.4386 - accuracy: 0.8721 - val_loss: 0.0096 - val_accuracy: 1.0000\n",
      "Epoch 3/20\n",
      "54/54 [==============================] - 5s 91ms/step - loss: 0.3504 - accuracy: 0.8756 - val_loss: 0.0070 - val_accuracy: 1.0000\n",
      "Epoch 4/20\n",
      "54/54 [==============================] - 5s 91ms/step - loss: 0.3444 - accuracy: 0.8826 - val_loss: 0.0070 - val_accuracy: 1.0000\n",
      "Epoch 5/20\n",
      "54/54 [==============================] - 5s 87ms/step - loss: 0.3553 - accuracy: 0.8849 - val_loss: 0.0246 - val_accuracy: 0.9953\n",
      "Epoch 6/20\n",
      "54/54 [==============================] - 5s 93ms/step - loss: 0.4082 - accuracy: 0.8535 - val_loss: 0.0377 - val_accuracy: 0.9907\n",
      "Epoch 7/20\n",
      "54/54 [==============================] - 5s 89ms/step - loss: 0.3877 - accuracy: 0.8581 - val_loss: 0.0138 - val_accuracy: 1.0000\n",
      "Epoch 8/20\n",
      "54/54 [==============================] - 5s 89ms/step - loss: 0.3724 - accuracy: 0.8733 - val_loss: 0.0484 - val_accuracy: 0.9907\n",
      "Epoch 9/20\n",
      "54/54 [==============================] - 5s 92ms/step - loss: 0.3003 - accuracy: 0.9023 - val_loss: 0.0520 - val_accuracy: 0.9814\n",
      "Epoch 10/20\n",
      "54/54 [==============================] - 5s 90ms/step - loss: 0.3246 - accuracy: 0.8884 - val_loss: 0.0170 - val_accuracy: 1.0000\n",
      "Epoch 11/20\n",
      "54/54 [==============================] - 5s 88ms/step - loss: 0.3009 - accuracy: 0.8837 - val_loss: 0.0233 - val_accuracy: 0.9953\n",
      "Epoch 12/20\n",
      "54/54 [==============================] - 5s 91ms/step - loss: 0.3053 - accuracy: 0.8837 - val_loss: 0.1228 - val_accuracy: 0.9535\n",
      "Epoch 13/20\n",
      "54/54 [==============================] - 5s 90ms/step - loss: 0.3367 - accuracy: 0.8884 - val_loss: 0.0787 - val_accuracy: 0.9767\n",
      "Epoch 14/20\n",
      "54/54 [==============================] - 5s 89ms/step - loss: 0.3294 - accuracy: 0.8953 - val_loss: 0.0568 - val_accuracy: 0.9767\n",
      "Epoch 15/20\n",
      "54/54 [==============================] - 5s 89ms/step - loss: 0.2874 - accuracy: 0.9081 - val_loss: 0.1015 - val_accuracy: 0.9721\n",
      "Epoch 16/20\n",
      "54/54 [==============================] - 5s 93ms/step - loss: 0.2669 - accuracy: 0.9140 - val_loss: 0.0640 - val_accuracy: 0.9721\n",
      "Epoch 17/20\n",
      "54/54 [==============================] - 5s 89ms/step - loss: 0.2537 - accuracy: 0.9128 - val_loss: 0.0899 - val_accuracy: 0.9814\n",
      "Epoch 18/20\n",
      "54/54 [==============================] - 5s 89ms/step - loss: 0.2108 - accuracy: 0.9233 - val_loss: 0.2719 - val_accuracy: 0.9163\n",
      "Epoch 19/20\n",
      "54/54 [==============================] - 5s 93ms/step - loss: 0.2530 - accuracy: 0.9140 - val_loss: 0.0730 - val_accuracy: 0.9674\n",
      "Epoch 20/20\n",
      "54/54 [==============================] - 5s 89ms/step - loss: 0.2281 - accuracy: 0.9105 - val_loss: 0.0487 - val_accuracy: 0.9907\n",
      "------------------------------------------------------------------------\n",
      "Training for fold 3 ...\n",
      "Epoch 1/20\n",
      "54/54 [==============================] - 5s 92ms/step - loss: 0.2780 - accuracy: 0.9023 - val_loss: 0.0030 - val_accuracy: 1.0000\n",
      "Epoch 2/20\n",
      "54/54 [==============================] - 5s 92ms/step - loss: 0.2609 - accuracy: 0.9186 - val_loss: 0.0081 - val_accuracy: 1.0000\n",
      "Epoch 3/20\n",
      "54/54 [==============================] - 5s 89ms/step - loss: 0.2724 - accuracy: 0.9081 - val_loss: 0.0060 - val_accuracy: 0.9953\n",
      "Epoch 4/20\n",
      "54/54 [==============================] - 5s 89ms/step - loss: 0.2439 - accuracy: 0.9163 - val_loss: 0.0051 - val_accuracy: 1.0000\n",
      "Epoch 5/20\n",
      "54/54 [==============================] - 5s 92ms/step - loss: 0.2369 - accuracy: 0.9209 - val_loss: 0.0061 - val_accuracy: 1.0000\n",
      "Epoch 6/20\n",
      "54/54 [==============================] - 5s 90ms/step - loss: 0.2331 - accuracy: 0.9174 - val_loss: 0.0027 - val_accuracy: 1.0000\n",
      "Epoch 7/20\n",
      "54/54 [==============================] - 5s 90ms/step - loss: 0.2405 - accuracy: 0.9140 - val_loss: 0.0036 - val_accuracy: 1.0000\n",
      "Epoch 8/20\n",
      "54/54 [==============================] - 5s 89ms/step - loss: 0.2107 - accuracy: 0.9326 - val_loss: 0.0051 - val_accuracy: 1.0000\n",
      "Epoch 9/20\n",
      "54/54 [==============================] - 5s 93ms/step - loss: 0.2114 - accuracy: 0.9314 - val_loss: 0.0087 - val_accuracy: 0.9953\n",
      "Epoch 10/20\n",
      "54/54 [==============================] - 5s 90ms/step - loss: 0.2340 - accuracy: 0.9163 - val_loss: 0.0110 - val_accuracy: 0.9953\n",
      "Epoch 11/20\n",
      "54/54 [==============================] - 5s 89ms/step - loss: 0.2264 - accuracy: 0.9163 - val_loss: 0.0041 - val_accuracy: 1.0000\n",
      "Epoch 12/20\n",
      "54/54 [==============================] - 5s 97ms/step - loss: 0.1853 - accuracy: 0.9314 - val_loss: 0.0169 - val_accuracy: 0.9860\n",
      "Epoch 13/20\n",
      "54/54 [==============================] - 5s 101ms/step - loss: 0.2077 - accuracy: 0.9337 - val_loss: 0.0087 - val_accuracy: 0.9953\n",
      "Epoch 14/20\n",
      "54/54 [==============================] - 5s 93ms/step - loss: 0.2219 - accuracy: 0.9186 - val_loss: 0.0188 - val_accuracy: 0.9953\n",
      "Epoch 15/20\n",
      "54/54 [==============================] - 5s 101ms/step - loss: 0.1821 - accuracy: 0.9407 - val_loss: 0.0120 - val_accuracy: 1.0000\n",
      "Epoch 16/20\n",
      "54/54 [==============================] - 6s 105ms/step - loss: 0.2037 - accuracy: 0.9291 - val_loss: 0.0091 - val_accuracy: 1.0000\n",
      "Epoch 17/20\n",
      "54/54 [==============================] - 5s 93ms/step - loss: 0.1657 - accuracy: 0.9349 - val_loss: 0.0166 - val_accuracy: 0.9953\n",
      "Epoch 18/20\n",
      "54/54 [==============================] - 5s 96ms/step - loss: 0.2320 - accuracy: 0.9151 - val_loss: 0.0104 - val_accuracy: 0.9953\n",
      "Epoch 19/20\n",
      "54/54 [==============================] - 5s 91ms/step - loss: 0.1671 - accuracy: 0.9395 - val_loss: 0.0106 - val_accuracy: 0.9953\n",
      "Epoch 20/20\n",
      "54/54 [==============================] - 5s 90ms/step - loss: 0.1883 - accuracy: 0.9337 - val_loss: 0.0641 - val_accuracy: 0.9767\n",
      "------------------------------------------------------------------------\n",
      "Training for fold 4 ...\n",
      "Epoch 1/20\n",
      "54/54 [==============================] - 5s 93ms/step - loss: 0.2686 - accuracy: 0.9140 - val_loss: 0.0066 - val_accuracy: 0.9953\n",
      "Epoch 2/20\n",
      "54/54 [==============================] - 5s 88ms/step - loss: 0.2248 - accuracy: 0.9128 - val_loss: 0.0019 - val_accuracy: 1.0000\n",
      "Epoch 3/20\n",
      "54/54 [==============================] - 5s 89ms/step - loss: 0.2300 - accuracy: 0.9140 - val_loss: 0.0384 - val_accuracy: 0.9860\n",
      "Epoch 4/20\n",
      "54/54 [==============================] - 5s 92ms/step - loss: 0.1955 - accuracy: 0.9302 - val_loss: 0.0129 - val_accuracy: 0.9953\n",
      "Epoch 5/20\n",
      "54/54 [==============================] - 5s 96ms/step - loss: 0.1993 - accuracy: 0.9302 - val_loss: 0.0067 - val_accuracy: 1.0000\n",
      "Epoch 6/20\n",
      "54/54 [==============================] - 6s 109ms/step - loss: 0.1649 - accuracy: 0.9372 - val_loss: 0.0059 - val_accuracy: 1.0000\n",
      "Epoch 7/20\n",
      "54/54 [==============================] - 5s 95ms/step - loss: 0.1628 - accuracy: 0.9407 - val_loss: 0.0026 - val_accuracy: 1.0000\n",
      "Epoch 8/20\n",
      "54/54 [==============================] - 5s 99ms/step - loss: 0.1875 - accuracy: 0.9244 - val_loss: 0.0059 - val_accuracy: 1.0000\n",
      "Epoch 9/20\n",
      "54/54 [==============================] - 5s 96ms/step - loss: 0.1521 - accuracy: 0.9523 - val_loss: 0.0022 - val_accuracy: 1.0000\n",
      "Epoch 10/20\n",
      "54/54 [==============================] - 5s 92ms/step - loss: 0.1453 - accuracy: 0.9523 - val_loss: 0.0037 - val_accuracy: 1.0000\n",
      "Epoch 11/20\n",
      "54/54 [==============================] - 5s 92ms/step - loss: 0.1487 - accuracy: 0.9465 - val_loss: 0.0040 - val_accuracy: 1.0000\n",
      "Epoch 12/20\n",
      "54/54 [==============================] - 5s 89ms/step - loss: 0.1723 - accuracy: 0.9419 - val_loss: 0.0156 - val_accuracy: 0.9953\n",
      "Epoch 13/20\n",
      "54/54 [==============================] - 5s 91ms/step - loss: 0.1696 - accuracy: 0.9535 - val_loss: 0.0034 - val_accuracy: 1.0000\n",
      "Epoch 14/20\n",
      "54/54 [==============================] - 5s 93ms/step - loss: 0.1624 - accuracy: 0.9465 - val_loss: 0.0069 - val_accuracy: 1.0000\n",
      "Epoch 15/20\n",
      "54/54 [==============================] - 5s 90ms/step - loss: 0.1240 - accuracy: 0.9581 - val_loss: 0.0032 - val_accuracy: 1.0000\n",
      "Epoch 16/20\n",
      "54/54 [==============================] - 5s 91ms/step - loss: 0.1366 - accuracy: 0.9488 - val_loss: 0.0053 - val_accuracy: 1.0000\n",
      "Epoch 17/20\n",
      "54/54 [==============================] - 5s 92ms/step - loss: 0.1452 - accuracy: 0.9430 - val_loss: 0.0060 - val_accuracy: 1.0000\n",
      "Epoch 18/20\n",
      "54/54 [==============================] - 5s 90ms/step - loss: 0.1214 - accuracy: 0.9605 - val_loss: 0.0038 - val_accuracy: 1.0000\n",
      "Epoch 19/20\n",
      "54/54 [==============================] - 5s 90ms/step - loss: 0.1450 - accuracy: 0.9605 - val_loss: 0.0138 - val_accuracy: 0.9953\n",
      "Epoch 20/20\n",
      "54/54 [==============================] - 5s 95ms/step - loss: 0.1285 - accuracy: 0.9523 - val_loss: 0.1422 - val_accuracy: 0.9674\n",
      "------------------------------------------------------------------------\n",
      "Training for fold 5 ...\n",
      "Epoch 1/20\n",
      "54/54 [==============================] - 5s 91ms/step - loss: 0.1664 - accuracy: 0.9372 - val_loss: 0.0017 - val_accuracy: 1.0000\n",
      "Epoch 2/20\n",
      "54/54 [==============================] - 5s 93ms/step - loss: 0.1780 - accuracy: 0.9384 - val_loss: 0.0014 - val_accuracy: 1.0000\n",
      "Epoch 3/20\n",
      "54/54 [==============================] - 6s 108ms/step - loss: 0.1644 - accuracy: 0.9430 - val_loss: 0.0031 - val_accuracy: 1.0000\n",
      "Epoch 4/20\n",
      "54/54 [==============================] - 5s 90ms/step - loss: 0.1833 - accuracy: 0.9419 - val_loss: 0.0064 - val_accuracy: 1.0000\n",
      "Epoch 5/20\n",
      "54/54 [==============================] - 5s 94ms/step - loss: 0.1782 - accuracy: 0.9407 - val_loss: 0.0032 - val_accuracy: 1.0000\n",
      "Epoch 6/20\n",
      "54/54 [==============================] - 5s 93ms/step - loss: 0.1292 - accuracy: 0.9581 - val_loss: 0.0150 - val_accuracy: 0.9953\n",
      "Epoch 7/20\n",
      "54/54 [==============================] - 5s 91ms/step - loss: 0.1788 - accuracy: 0.9337 - val_loss: 0.0018 - val_accuracy: 1.0000\n",
      "Epoch 8/20\n",
      "54/54 [==============================] - 5s 90ms/step - loss: 0.1532 - accuracy: 0.9488 - val_loss: 0.0134 - val_accuracy: 0.9953\n",
      "Epoch 9/20\n",
      "54/54 [==============================] - 5s 93ms/step - loss: 0.1270 - accuracy: 0.9628 - val_loss: 0.0046 - val_accuracy: 1.0000\n",
      "Epoch 10/20\n",
      "54/54 [==============================] - 5s 96ms/step - loss: 0.1497 - accuracy: 0.9535 - val_loss: 0.0046 - val_accuracy: 1.0000\n",
      "Epoch 11/20\n",
      "54/54 [==============================] - 5s 91ms/step - loss: 0.1293 - accuracy: 0.9523 - val_loss: 0.0047 - val_accuracy: 1.0000\n",
      "Epoch 12/20\n",
      "54/54 [==============================] - 5s 92ms/step - loss: 0.1418 - accuracy: 0.9570 - val_loss: 0.0056 - val_accuracy: 1.0000\n",
      "Epoch 13/20\n",
      "54/54 [==============================] - 5s 93ms/step - loss: 0.1279 - accuracy: 0.9570 - val_loss: 0.0130 - val_accuracy: 0.9953\n",
      "Epoch 14/20\n",
      "54/54 [==============================] - 5s 90ms/step - loss: 0.0864 - accuracy: 0.9756 - val_loss: 0.0034 - val_accuracy: 1.0000\n",
      "Epoch 15/20\n",
      "54/54 [==============================] - 5s 91ms/step - loss: 0.1284 - accuracy: 0.9581 - val_loss: 0.0100 - val_accuracy: 0.9953\n",
      "Epoch 16/20\n",
      "54/54 [==============================] - 5s 94ms/step - loss: 0.1342 - accuracy: 0.9605 - val_loss: 0.0167 - val_accuracy: 0.9907\n",
      "Epoch 17/20\n",
      "54/54 [==============================] - 5s 91ms/step - loss: 0.1301 - accuracy: 0.9547 - val_loss: 0.0215 - val_accuracy: 0.9907\n",
      "Epoch 18/20\n",
      "54/54 [==============================] - 5s 89ms/step - loss: 0.1367 - accuracy: 0.9488 - val_loss: 0.0216 - val_accuracy: 0.9907\n",
      "Epoch 19/20\n",
      "54/54 [==============================] - 5s 95ms/step - loss: 0.1330 - accuracy: 0.9512 - val_loss: 0.0174 - val_accuracy: 1.0000\n",
      "Epoch 20/20\n",
      "54/54 [==============================] - 5s 92ms/step - loss: 0.1279 - accuracy: 0.9535 - val_loss: 0.0264 - val_accuracy: 0.9953\n"
     ]
    }
   ],
   "source": [
    "# Define per-fold score containers\n",
    "val_acc_per_fold = []\n",
    "val_loss_per_fold = []\n",
    "loss_per_fold = []\n",
    "acc_per_fold = []\n",
    "\n",
    "# K-fold Cross Validation model evaluation\n",
    "fold_no = 1\n",
    "for train, valid in kfold.split(train_images_data, train_images_label):\n",
    "    # Generate a print\n",
    "    print('------------------------------------------------------------------------')\n",
    "    print(f'Training for fold {fold_no} ...')\n",
    "    history = model.fit_generator(dataAugmentaion.flow(train_images_data[train], train_images_label[train], batch_size=16),\n",
    "                                  epochs=epochs,\n",
    "                                  validation_data=(train_images_data[valid], train_images_label[valid]))\n",
    "    val_acc_per_fold.append(history.history['val_accuracy'])\n",
    "    acc_per_fold.append(history.history['accuracy'])\n",
    "    val_loss_per_fold.append(history.history['val_loss'])\n",
    "    loss_per_fold.append(history.history['loss'])\n",
    "    # Increase fold number\n",
    "    fold_no += 1"
   ]
  },
  {
   "cell_type": "code",
   "execution_count": 34,
   "id": "bee420bc",
   "metadata": {},
   "outputs": [
    {
     "name": "stdout",
     "output_type": "stream",
     "text": [
      "Mean_Training_Accuracy: 90.57093018293381\n",
      "Mean_Validation_Accuracy: 97.55813890695572\n"
     ]
    }
   ],
   "source": [
    "print(f'Mean_Training_Accuracy: {np.mean(acc_per_fold)*100}')\n",
    "print(f'Mean_Validation_Accuracy: {np.mean(val_acc_per_fold)*100}')"
   ]
  },
  {
   "cell_type": "code",
   "execution_count": 30,
   "id": "e1757f5d",
   "metadata": {
    "execution": {
     "iopub.execute_input": "2023-01-15T09:54:02.922429Z",
     "iopub.status.busy": "2023-01-15T09:54:02.922043Z",
     "iopub.status.idle": "2023-01-15T09:54:03.211717Z",
     "shell.execute_reply": "2023-01-15T09:54:03.210801Z"
    },
    "papermill": {
     "duration": 0.507993,
     "end_time": "2023-01-15T09:54:03.213803",
     "exception": false,
     "start_time": "2023-01-15T09:54:02.705810",
     "status": "completed"
    },
    "tags": []
   },
   "outputs": [
    {
     "data": {
      "image/png": "[encoded data removed]",
      "text/plain": [
       "<Figure size 2000x1000 with 1 Axes>"
      ]
     },
     "metadata": {},
     "output_type": "display_data"
    }
   ],
   "source": [
    "plt.figure(figsize=(20, 10))\n",
    "plt.plot(loss_per_fold[0], label='Train Loss Fold 1', color='red')\n",
    "plt.plot(val_loss_per_fold[0], label='Val Loss Fold 1', color='red', linestyle = \"dashdot\")\n",
    "plt.plot(loss_per_fold[4], label='Train Loss Fold 5', color='green')\n",
    "plt.plot(val_loss_per_fold[4], label='Val Loss Fold 5', color='green', linestyle = \"dashdot\")\n",
    "plt.legend()\n",
    "plt.show()"
   ]
  },
  {
   "cell_type": "code",
   "execution_count": 29,
   "id": "af479e46",
   "metadata": {
    "execution": {
     "iopub.execute_input": "2023-01-15T09:54:03.520632Z",
     "iopub.status.busy": "2023-01-15T09:54:03.520217Z",
     "iopub.status.idle": "2023-01-15T09:54:27.348418Z",
     "shell.execute_reply": "2023-01-15T09:54:27.346229Z"
    },
    "papermill": {
     "duration": 23.987205,
     "end_time": "2023-01-15T09:54:27.351291",
     "exception": false,
     "start_time": "2023-01-15T09:54:03.364086",
     "status": "completed"
    },
    "tags": []
   },
   "outputs": [
    {
     "name": "stdout",
     "output_type": "stream",
     "text": [
      "15/15 [==============================] - 1s 26ms/step\n",
      "Test Data accuracy:  90.77253218884121\n",
      "\n",
      "Confusion Matrix : \n",
      "[[ 90   0   4   0   3]\n",
      " [  0  61   7   0   9]\n",
      " [  0   1 109   1   3]\n",
      " [  1   2   0  65   1]\n",
      " [  0  10   1   0  98]]\n",
      "\n",
      "Classification Report :\n",
      "              precision    recall  f1-score   support\n",
      "\n",
      "     downdog       0.99      0.93      0.96        97\n",
      "     goddess       0.82      0.79      0.81        77\n",
      "       plank       0.90      0.96      0.93       114\n",
      "        tree       0.98      0.94      0.96        69\n",
      "    warrior2       0.86      0.90      0.88       109\n",
      "\n",
      "    accuracy                           0.91       466\n",
      "   macro avg       0.91      0.90      0.91       466\n",
      "weighted avg       0.91      0.91      0.91       466\n",
      "\n"
     ]
    }
   ],
   "source": [
    "test_images_data, test_images_label = preprocess_images(test_path)\n",
    "test_images_label = encoding_targets(test_images_label)\n",
    "predict = np.argmax(model.predict(np.array(test_images_data)),axis=1)\n",
    "print('Test Data accuracy: ',accuracy_score(test_images_label, predict)*100)\n",
    "print(\"\\nConfusion Matrix : \")\n",
    "cnf_matrix = confusion_matrix(test_images_label, predict)\n",
    "print(cnf_matrix)\n",
    "print(\"\\nClassification Report :\")\n",
    "print(classification_report(test_images_label, predict, target_names=class_names))"
   ]
  },
  {
   "cell_type": "markdown",
   "id": "c541615d",
   "metadata": {
    "papermill": {
     "duration": 0.146484,
     "end_time": "2023-01-15T09:54:27.703604",
     "exception": false,
     "start_time": "2023-01-15T09:54:27.557120",
     "status": "completed"
    },
    "tags": []
   },
   "source": [
    "#### From heatmap visualization we can see a lot of goddess images were predicted as warrior2"
   ]
  },
  {
   "cell_type": "code",
   "execution_count": 31,
   "id": "afd8dbbf",
   "metadata": {
    "execution": {
     "iopub.execute_input": "2023-01-15T09:54:28.003763Z",
     "iopub.status.busy": "2023-01-15T09:54:28.003395Z",
     "iopub.status.idle": "2023-01-15T09:54:28.325324Z",
     "shell.execute_reply": "2023-01-15T09:54:28.324371Z"
    },
    "papermill": {
     "duration": 0.474602,
     "end_time": "2023-01-15T09:54:28.327363",
     "exception": false,
     "start_time": "2023-01-15T09:54:27.852761",
     "status": "completed"
    },
    "tags": []
   },
   "outputs": [
    {
     "data": {
      "image/png": "[encoded data removed]",
      "text/plain": [
       "<Figure size 640x480 with 2 Axes>"
      ]
     },
     "metadata": {},
     "output_type": "display_data"
    }
   ],
   "source": [
    "ax= plt.subplot()\n",
    "sns.heatmap(cnf_matrix, annot=True, fmt='g', ax=ax);\n",
    "\n",
    "# labels, title and ticks\n",
    "ax.set_xlabel('Predicted labels');ax.set_ylabel('True labels'); \n",
    "ax.set_title('Confusion Matrix'); \n",
    "ax.xaxis.set_ticklabels(['downdog', 'goddess','plank','tree','warrior2']); ax.yaxis.set_ticklabels(['downdog', 'goddess','plank','tree','warrior2']);"
   ]
  }
 ],
 "metadata": {
  "kernelspec": {
   "display_name": "Python 3 (ipykernel)",
   "language": "python",
   "name": "python3"
  },
  "language_info": {
   "codemirror_mode": {
    "name": "ipython",
    "version": 3
   },
   "file_extension": ".py",
   "mimetype": "text/x-python",
   "name": "python",
   "nbconvert_exporter": "python",
   "pygments_lexer": "ipython3",
   "version": "3.9.15"
  },
  "papermill": {
   "default_parameters": {},
   "duration": 279.420071,
   "end_time": "2023-01-15T09:54:40.216585",
   "environment_variables": {},
   "exception": null,
   "input_path": "__notebook__.ipynb",
   "output_path": "__notebook__.ipynb",
   "parameters": {},
   "start_time": "2023-01-15T09:50:00.796514",
   "version": "2.3.4"
  }
 },
 "nbformat": 4,
 "nbformat_minor": 5
}
