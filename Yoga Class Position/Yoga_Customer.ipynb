{
 "cells": [
  {
   "cell_type": "code",
   "execution_count": 2,
   "id": "183fa112",
   "metadata": {},
   "outputs": [],
   "source": [
    "import numpy as np # linear algebra\n",
    "import pandas as pd # data processing, CSV file I/O (e.g. pd.read_csv)\n",
    "import os\n",
    "import matplotlib.pyplot as plt\n",
    "import seaborn as sns\n",
    "import tensorflow as tf\n",
    "import keras\n",
    "from PIL import Image\n",
    "import keras.utils as image\n",
    "from keras.models import Sequential\n",
    "from keras.layers import Conv2D, MaxPool2D, Flatten,Dense,Dropout,BatchNormalization\n",
    "from tensorflow.keras.preprocessing.image import ImageDataGenerator\n",
    "import cv2\n",
    "from keras.layers import Input, Lambda, Dense, Flatten\n",
    "from tensorflow.keras.applications import VGG16, InceptionResNetV2\n",
    "from keras import regularizers\n",
    "from tensorflow.keras.optimizers import Adam,RMSprop,SGD,Adamax"
   ]
  },
  {
   "cell_type": "code",
   "execution_count": 2,
   "id": "7a435e34",
   "metadata": {},
   "outputs": [],
   "source": [
    "train_dir = 'YOGA/content/cleaned/DATASET/TRAIN' #directory with training images\n",
    "test_dir = 'YOGA/content/cleaned/DATASET/TEST' #directory with testing images"
   ]
  },
  {
   "cell_type": "code",
   "execution_count": 3,
   "id": "361cacf8",
   "metadata": {},
   "outputs": [],
   "source": [
    "train_datagen = ImageDataGenerator(width_shift_range= 0.1,\n",
    "                                  horizontal_flip = True,\n",
    "                                  rescale = 1./255,\n",
    "                                  validation_split = 0.2)\n",
    "test_datagen = ImageDataGenerator(rescale = 1./255,\n",
    "                                 validation_split = 0.2)"
   ]
  },
  {
   "cell_type": "code",
   "execution_count": 4,
   "id": "c58fac0f",
   "metadata": {},
   "outputs": [
    {
     "name": "stdout",
     "output_type": "stream",
     "text": [
      "Found 862 images belonging to 5 classes.\n",
      "Found 90 images belonging to 5 classes.\n"
     ]
    }
   ],
   "source": [
    "train_generator =  train_datagen.flow_from_directory(directory = train_dir,\n",
    "                                                    target_size = (224,224),\n",
    "                                                    color_mode = 'rgb',\n",
    "                                                    class_mode = 'categorical',\n",
    "                                                    batch_size = 16,\n",
    "                                                    subset = 'training')\n",
    "validation_generator  = test_datagen.flow_from_directory(directory = test_dir,\n",
    "                                                  target_size = (224,224),\n",
    "                                                  color_mode = 'rgb',\n",
    "                                                  class_mode = 'categorical',\n",
    "                                                  subset = 'validation')"
   ]
  },
  {
   "cell_type": "code",
   "execution_count": 5,
   "id": "0ea117e7",
   "metadata": {},
   "outputs": [],
   "source": [
    "\n",
    "\n",
    "model = tf.keras.models.Sequential([\n",
    "    ## Conv : extraction feature min image\n",
    "    #64 : number Filter / 3,3 : size of filter \n",
    "    #3 color channels (red, green, blue)\n",
    "    tf.keras.layers.Conv2D(64, (3,3), activation='relu',padding = 'Same', input_shape=(224, 224, 3)),\n",
    "    \n",
    "    #pooling\n",
    "    #slide\n",
    "    tf.keras.layers.MaxPooling2D(2, 2),\n",
    "    \n",
    "    #Dropout is a regularization technique used to prevent overfitting in neural networks\n",
    "    tf.keras.layers.Dropout(0.25),\n",
    "\n",
    "    tf.keras.layers.Conv2D(128, (3,3), activation='relu',padding = 'Same'),\n",
    "    tf.keras.layers.MaxPooling2D(2,2),\n",
    "    tf.keras.layers.Dropout(0.25),\n",
    "    tf.keras.layers.Conv2D(256, (3,3), activation='relu',padding = 'Same'),\n",
    "    tf.keras.layers.MaxPooling2D(2,2),\n",
    "    tf.keras.layers.Dropout(0.25),\n",
    "    \n",
    "    #Flatten is a layer that reshapes the input tensor into a 1D vector\n",
    "    tf.keras.layers.Flatten(),\n",
    "    \n",
    "    # fully connected : creation neurone et connexion \n",
    "    # 1024 : : the number of output neurons in the layer \n",
    "    tf.keras.layers.Dense(1024, activation='relu'),\n",
    "    tf.keras.layers.Dropout(0.5),\n",
    "    \n",
    "    tf.keras.layers.Dense(5, activation='softmax')\n",
    "])"
   ]
  },
  {
   "cell_type": "code",
   "execution_count": 6,
   "id": "96060edc",
   "metadata": {},
   "outputs": [
    {
     "name": "stderr",
     "output_type": "stream",
     "text": [
      "WARNING:absl:`lr` is deprecated, please use `learning_rate` instead, or use the legacy optimizer, e.g.,tf.keras.optimizers.legacy.Adam.\n"
     ]
    }
   ],
   "source": [
    "optimizer = Adam(lr=0.001)\n",
    "### Adam optimization  minimse loss function\n",
    "### learning rate  which is a hyperparameter that controls the step size vitesse apprentissage\n",
    "model.compile(loss='categorical_crossentropy',\n",
    "              optimizer = optimizer,\n",
    "              metrics=['accuracy'])\n",
    "epochs = 50  ## number of trianing model\n",
    "batch_size = 16 ## taille echantillon"
   ]
  },
  {
   "cell_type": "code",
   "execution_count": 7,
   "id": "1acb4b6f",
   "metadata": {},
   "outputs": [
    {
     "name": "stdout",
     "output_type": "stream",
     "text": [
      "Model: \"sequential\"\n",
      "_________________________________________________________________\n",
      " Layer (type)                Output Shape              Param #   \n",
      "=================================================================\n",
      " conv2d (Conv2D)             (None, 224, 224, 64)      1792      \n",
      "                                                                 \n",
      " max_pooling2d (MaxPooling2D  (None, 112, 112, 64)     0         \n",
      " )                                                               \n",
      "                                                                 \n",
      " dropout (Dropout)           (None, 112, 112, 64)      0         \n",
      "                                                                 \n",
      " conv2d_1 (Conv2D)           (None, 112, 112, 128)     73856     \n",
      "                                                                 \n",
      " max_pooling2d_1 (MaxPooling  (None, 56, 56, 128)      0         \n",
      " 2D)                                                             \n",
      "                                                                 \n",
      " dropout_1 (Dropout)         (None, 56, 56, 128)       0         \n",
      "                                                                 \n",
      " conv2d_2 (Conv2D)           (None, 56, 56, 256)       295168    \n",
      "                                                                 \n",
      " max_pooling2d_2 (MaxPooling  (None, 28, 28, 256)      0         \n",
      " 2D)                                                             \n",
      "                                                                 \n",
      " dropout_2 (Dropout)         (None, 28, 28, 256)       0         \n",
      "                                                                 \n",
      " flatten (Flatten)           (None, 200704)            0         \n",
      "                                                                 \n",
      " dense (Dense)               (None, 1024)              205521920 \n",
      "                                                                 \n",
      " dropout_3 (Dropout)         (None, 1024)              0         \n",
      "                                                                 \n",
      " dense_1 (Dense)             (None, 5)                 5125      \n",
      "                                                                 \n",
      "=================================================================\n",
      "Total params: 205,897,861\n",
      "Trainable params: 205,897,861\n",
      "Non-trainable params: 0\n",
      "_________________________________________________________________\n"
     ]
    }
   ],
   "source": [
    "model.summary()"
   ]
  },
  {
   "cell_type": "code",
   "execution_count": 8,
   "id": "a25b1e88",
   "metadata": {},
   "outputs": [],
   "source": [
    "from PIL import ImageFile\n",
    "ImageFile.LOAD_TRUNCATED_IMAGES = True ### accepte les images avec erreur"
   ]
  },
  {
   "cell_type": "code",
   "execution_count": 9,
   "id": "db6c149a",
   "metadata": {},
   "outputs": [
    {
     "name": "stdout",
     "output_type": "stream",
     "text": [
      "Epoch 1/50\n",
      " 5/54 [=>............................] - ETA: 3:30 - loss: 40.7175 - accuracy: 0.2625"
     ]
    },
    {
     "name": "stderr",
     "output_type": "stream",
     "text": [
      "C:\\Users\\Extra\\anaconda3\\lib\\site-packages\\PIL\\Image.py:959: UserWarning: Palette images with Transparency expressed in bytes should be converted to RGBA images\n",
      "  warnings.warn(\n"
     ]
    },
    {
     "name": "stdout",
     "output_type": "stream",
     "text": [
      "54/54 [==============================] - 236s 4s/step - loss: 5.2481 - accuracy: 0.2262 - val_loss: 1.6033 - val_accuracy: 0.2444\n",
      "Epoch 2/50\n",
      "54/54 [==============================] - 219s 4s/step - loss: 1.6121 - accuracy: 0.2378 - val_loss: 1.5910 - val_accuracy: 0.3667\n",
      "Epoch 3/50\n",
      "54/54 [==============================] - 217s 4s/step - loss: 1.5779 - accuracy: 0.3028 - val_loss: 1.3662 - val_accuracy: 0.5000\n",
      "Epoch 4/50\n",
      "54/54 [==============================] - 225s 4s/step - loss: 1.5337 - accuracy: 0.3387 - val_loss: 1.2986 - val_accuracy: 0.5222\n",
      "Epoch 5/50\n",
      "54/54 [==============================] - 216s 4s/step - loss: 1.3712 - accuracy: 0.4443 - val_loss: 1.0095 - val_accuracy: 0.6222\n",
      "Epoch 6/50\n",
      "54/54 [==============================] - 206s 4s/step - loss: 1.2490 - accuracy: 0.5116 - val_loss: 0.8672 - val_accuracy: 0.7667\n",
      "Epoch 7/50\n",
      "54/54 [==============================] - 211s 4s/step - loss: 1.1027 - accuracy: 0.5684 - val_loss: 0.6826 - val_accuracy: 0.7111\n",
      "Epoch 8/50\n",
      "54/54 [==============================] - 204s 4s/step - loss: 1.0707 - accuracy: 0.5870 - val_loss: 0.6771 - val_accuracy: 0.7667\n",
      "Epoch 9/50\n",
      "54/54 [==============================] - 207s 4s/step - loss: 0.9509 - accuracy: 0.6427 - val_loss: 0.6000 - val_accuracy: 0.7778\n",
      "Epoch 10/50\n",
      "54/54 [==============================] - 206s 4s/step - loss: 0.9019 - accuracy: 0.6763 - val_loss: 0.6042 - val_accuracy: 0.7556\n",
      "Epoch 11/50\n",
      "54/54 [==============================] - 207s 4s/step - loss: 0.8277 - accuracy: 0.6763 - val_loss: 0.5198 - val_accuracy: 0.8111\n",
      "Epoch 12/50\n",
      "54/54 [==============================] - 206s 4s/step - loss: 0.7217 - accuracy: 0.7483 - val_loss: 0.5333 - val_accuracy: 0.7889\n",
      "Epoch 13/50\n",
      "54/54 [==============================] - 205s 4s/step - loss: 0.7254 - accuracy: 0.7367 - val_loss: 0.4963 - val_accuracy: 0.8000\n",
      "Epoch 14/50\n",
      "54/54 [==============================] - 208s 4s/step - loss: 0.6206 - accuracy: 0.7726 - val_loss: 0.4918 - val_accuracy: 0.8000\n",
      "Epoch 15/50\n",
      "54/54 [==============================] - 206s 4s/step - loss: 0.6120 - accuracy: 0.7923 - val_loss: 0.4684 - val_accuracy: 0.8000\n",
      "Epoch 16/50\n",
      "54/54 [==============================] - 206s 4s/step - loss: 0.5189 - accuracy: 0.8387 - val_loss: 0.4679 - val_accuracy: 0.8556\n",
      "Epoch 17/50\n",
      "54/54 [==============================] - 206s 4s/step - loss: 0.4592 - accuracy: 0.8399 - val_loss: 0.4646 - val_accuracy: 0.8333\n",
      "Epoch 18/50\n",
      "54/54 [==============================] - 207s 4s/step - loss: 0.4938 - accuracy: 0.8306 - val_loss: 0.3557 - val_accuracy: 0.8667\n",
      "Epoch 19/50\n",
      "54/54 [==============================] - 207s 4s/step - loss: 0.4418 - accuracy: 0.8480 - val_loss: 0.4406 - val_accuracy: 0.8222\n",
      "Epoch 20/50\n",
      "54/54 [==============================] - 207s 4s/step - loss: 0.3869 - accuracy: 0.8654 - val_loss: 0.4326 - val_accuracy: 0.8556\n",
      "Epoch 21/50\n",
      "54/54 [==============================] - 206s 4s/step - loss: 0.4372 - accuracy: 0.8561 - val_loss: 0.3698 - val_accuracy: 0.8333\n",
      "Epoch 22/50\n",
      "54/54 [==============================] - 206s 4s/step - loss: 0.3340 - accuracy: 0.8921 - val_loss: 0.4537 - val_accuracy: 0.8444\n",
      "Epoch 23/50\n",
      "54/54 [==============================] - 207s 4s/step - loss: 0.2884 - accuracy: 0.8875 - val_loss: 0.4410 - val_accuracy: 0.8444\n",
      "Epoch 24/50\n",
      "54/54 [==============================] - 207s 4s/step - loss: 0.2797 - accuracy: 0.9037 - val_loss: 0.3758 - val_accuracy: 0.8556\n",
      "Epoch 25/50\n",
      "54/54 [==============================] - 206s 4s/step - loss: 0.2549 - accuracy: 0.9223 - val_loss: 0.3129 - val_accuracy: 0.8778\n",
      "Epoch 26/50\n",
      "54/54 [==============================] - 206s 4s/step - loss: 0.2260 - accuracy: 0.9281 - val_loss: 0.3203 - val_accuracy: 0.8889\n",
      "Epoch 27/50\n",
      "54/54 [==============================] - 207s 4s/step - loss: 0.2296 - accuracy: 0.9246 - val_loss: 0.2824 - val_accuracy: 0.9000\n",
      "Epoch 28/50\n",
      "54/54 [==============================] - 206s 4s/step - loss: 0.2217 - accuracy: 0.9281 - val_loss: 0.3472 - val_accuracy: 0.8889\n",
      "Epoch 29/50\n",
      "54/54 [==============================] - 207s 4s/step - loss: 0.2201 - accuracy: 0.9350 - val_loss: 0.2723 - val_accuracy: 0.8778\n",
      "Epoch 30/50\n",
      "54/54 [==============================] - 207s 4s/step - loss: 0.1980 - accuracy: 0.9281 - val_loss: 0.2988 - val_accuracy: 0.8667\n",
      "Epoch 31/50\n",
      "54/54 [==============================] - 207s 4s/step - loss: 0.1776 - accuracy: 0.9397 - val_loss: 0.4802 - val_accuracy: 0.9000\n",
      "Epoch 32/50\n",
      "54/54 [==============================] - 207s 4s/step - loss: 0.1815 - accuracy: 0.9443 - val_loss: 0.3690 - val_accuracy: 0.8667\n",
      "Epoch 33/50\n",
      "54/54 [==============================] - 206s 4s/step - loss: 0.1520 - accuracy: 0.9513 - val_loss: 0.3196 - val_accuracy: 0.8444\n",
      "Epoch 34/50\n",
      "54/54 [==============================] - 206s 4s/step - loss: 0.1596 - accuracy: 0.9420 - val_loss: 0.3076 - val_accuracy: 0.8778\n",
      "Epoch 35/50\n",
      "54/54 [==============================] - 207s 4s/step - loss: 0.1808 - accuracy: 0.9548 - val_loss: 0.4133 - val_accuracy: 0.8222\n",
      "Epoch 36/50\n",
      "54/54 [==============================] - 207s 4s/step - loss: 0.1697 - accuracy: 0.9513 - val_loss: 0.4169 - val_accuracy: 0.8444\n",
      "Epoch 37/50\n",
      "54/54 [==============================] - 207s 4s/step - loss: 0.1715 - accuracy: 0.9420 - val_loss: 0.5186 - val_accuracy: 0.8556\n",
      "Epoch 38/50\n",
      "54/54 [==============================] - 207s 4s/step - loss: 0.1385 - accuracy: 0.9548 - val_loss: 0.2876 - val_accuracy: 0.8778\n",
      "Epoch 39/50\n",
      "54/54 [==============================] - 207s 4s/step - loss: 0.1304 - accuracy: 0.9617 - val_loss: 0.2279 - val_accuracy: 0.9111\n",
      "Epoch 40/50\n",
      "54/54 [==============================] - 207s 4s/step - loss: 0.1613 - accuracy: 0.9548 - val_loss: 0.2590 - val_accuracy: 0.9111\n",
      "Epoch 41/50\n",
      "54/54 [==============================] - 205s 4s/step - loss: 0.1154 - accuracy: 0.9594 - val_loss: 0.3005 - val_accuracy: 0.9222\n",
      "Epoch 42/50\n",
      "54/54 [==============================] - 207s 4s/step - loss: 0.1269 - accuracy: 0.9710 - val_loss: 0.3975 - val_accuracy: 0.8778\n",
      "Epoch 43/50\n",
      "54/54 [==============================] - 207s 4s/step - loss: 0.1060 - accuracy: 0.9640 - val_loss: 0.3501 - val_accuracy: 0.8667\n",
      "Epoch 44/50\n",
      "54/54 [==============================] - 207s 4s/step - loss: 0.1379 - accuracy: 0.9606 - val_loss: 0.2657 - val_accuracy: 0.9000\n",
      "Epoch 45/50\n",
      "54/54 [==============================] - 207s 4s/step - loss: 0.1070 - accuracy: 0.9640 - val_loss: 0.2882 - val_accuracy: 0.9111\n",
      "Epoch 46/50\n",
      "54/54 [==============================] - 206s 4s/step - loss: 0.1195 - accuracy: 0.9664 - val_loss: 0.1968 - val_accuracy: 0.9333\n",
      "Epoch 47/50\n",
      "54/54 [==============================] - 207s 4s/step - loss: 0.0954 - accuracy: 0.9722 - val_loss: 0.3581 - val_accuracy: 0.9000\n",
      "Epoch 48/50\n",
      "54/54 [==============================] - 207s 4s/step - loss: 0.1467 - accuracy: 0.9582 - val_loss: 0.3697 - val_accuracy: 0.9111\n",
      "Epoch 49/50\n",
      "54/54 [==============================] - 206s 4s/step - loss: 0.0922 - accuracy: 0.9710 - val_loss: 0.3103 - val_accuracy: 0.9111\n",
      "Epoch 50/50\n",
      "54/54 [==============================] - 206s 4s/step - loss: 0.0679 - accuracy: 0.9826 - val_loss: 0.4054 - val_accuracy: 0.9000\n"
     ]
    }
   ],
   "source": [
    "history = model.fit(train_generator, epochs = epochs,validation_data = validation_generator)"
   ]
  },
  {
   "cell_type": "code",
   "execution_count": 10,
   "id": "2a0fb4ce",
   "metadata": {},
   "outputs": [
    {
     "data": {
      "image/png": "[encoded data removed]",
      "text/plain": [
       "<Figure size 1200x400 with 2 Axes>"
      ]
     },
     "metadata": {},
     "output_type": "display_data"
    }
   ],
   "source": [
    "fig , ax = plt.subplots(1,2)\n",
    "train_acc = history.history['accuracy']\n",
    "train_loss = history.history['loss']\n",
    "fig.set_size_inches(12,4)\n",
    "\n",
    "ax[0].plot(history.history['accuracy'])\n",
    "ax[0].plot(history.history['val_accuracy'])\n",
    "ax[0].set_title('Training Accuracy vs Validation Accuracy')\n",
    "ax[0].set_ylabel('Accuracy')\n",
    "ax[0].set_xlabel('Epoch')\n",
    "ax[0].legend(['Train', 'Validation'], loc='upper left')\n",
    "\n",
    "ax[1].plot(history.history['loss'])\n",
    "ax[1].plot(history.history['val_loss'])\n",
    "ax[1].set_title('Training Loss vs Validation Loss')\n",
    "ax[1].set_ylabel('Loss')\n",
    "ax[1].set_xlabel('Epoch')\n",
    "ax[1].legend(['Train', 'Validation'], loc='upper left')\n",
    "\n",
    "plt.show()"
   ]
  },
  {
   "cell_type": "code",
   "execution_count": 11,
   "id": "7f1cf397",
   "metadata": {},
   "outputs": [
    {
     "name": "stdout",
     "output_type": "stream",
     "text": [
      "54/54 [==============================] - 49s 914ms/step - loss: 0.0280 - accuracy: 0.9965\n",
      "3/3 [==============================] - 6s 2s/step - loss: 0.4054 - accuracy: 0.9000\n",
      "final train accuracy = 99.65 , validation accuracy = 90.00\n"
     ]
    }
   ],
   "source": [
    "train_loss, train_acc = model.evaluate(train_generator)\n",
    "test_loss, test_acc   = model.evaluate(validation_generator)\n",
    "print(\"final train accuracy = {:.2f} , validation accuracy = {:.2f}\".format(train_acc*100, test_acc*100))"
   ]
  },
  {
   "cell_type": "markdown",
   "id": "9331a043",
   "metadata": {},
   "source": [
    "# Testing Our Model"
   ]
  },
  {
   "cell_type": "code",
   "execution_count": 12,
   "id": "6978a0bf",
   "metadata": {},
   "outputs": [],
   "source": [
    "model.save('YogaNet_model.h5')"
   ]
  },
  {
   "cell_type": "code",
   "execution_count": 3,
   "id": "6f3d4499",
   "metadata": {},
   "outputs": [
    {
     "name": "stdout",
     "output_type": "stream",
     "text": [
      "1/1 [==============================] - 0s 376ms/step\n",
      "[[0. 0. 0. 0. 1.]]\n"
     ]
    }
   ],
   "source": [
    "from keras.models import load_model\n",
    "from keras.applications.vgg16 import preprocess_input\n",
    "model = load_model('YogaNet_model.h5')\n",
    "img = image.load_img('00000132.jpg', target_size=(224, 224))\n",
    "### image stocke dans tableau\n",
    "x = image.img_to_array(img)\n",
    "\n",
    "## add axis 1D => 2D\n",
    "x = np.expand_dims(x, axis=0)\n",
    "img_data = preprocess_input(x)\n",
    "classes = model.predict(img_data)\n",
    "print(classes) "
   ]
  },
  {
   "cell_type": "code",
   "execution_count": null,
   "id": "106c7714",
   "metadata": {},
   "outputs": [],
   "source": []
  }
 ],
 "metadata": {
  "kernelspec": {
   "display_name": "Python 3 (ipykernel)",
   "language": "python",
   "name": "python3"
  },
  "language_info": {
   "codemirror_mode": {
    "name": "ipython",
    "version": 3
   },
   "file_extension": ".py",
   "mimetype": "text/x-python",
   "name": "python",
   "nbconvert_exporter": "python",
   "pygments_lexer": "ipython3",
   "version": "3.9.16"
  }
 },
 "nbformat": 4,
 "nbformat_minor": 5
}
